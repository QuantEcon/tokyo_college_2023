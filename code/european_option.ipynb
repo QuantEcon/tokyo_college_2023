{
  "cells": [
    {
      "cell_type": "markdown",
      "id": "ba5614aa",
      "metadata": {
        "id": "ba5614aa"
      },
      "source": [
        "# Monte Carlo and Option Pricing \n",
        "\n",
        "* Written for the RSE QuantEcon Workshop (February 2023)\n",
        "* Author: [John Stachurski](http://johnstachurski.net/)\n",
        "\n",
        "We discuss [Monte Carlo\n",
        "methods](https://en.wikipedia.org/wiki/Monte_Carlo_method) for computing\n",
        "expectations with applications in finance.\n",
        "\n",
        "Our main application will be pricing a European option.\n",
        "\n",
        "We will show that Monte Carlo is particularly helpful when the distribution of\n",
        "interest has no neat analytical form.\n",
        "\n",
        "We will also touch on some high performance computing topics, including \n",
        "\n",
        "* just-in-time compilers \n",
        "* GPUs and \n",
        "* parallelization.\n",
        "\n",
        "We begin with the following imports:"
      ]
    },
    {
      "cell_type": "code",
      "execution_count": 1,
      "id": "6e9e043d",
      "metadata": {
        "id": "6e9e043d"
      },
      "outputs": [],
      "source": [
        "import numpy as np\n",
        "import matplotlib.pyplot as plt\n",
        "import numba\n",
        "from numpy.random import randn"
      ]
    },
    {
      "cell_type": "markdown",
      "id": "f5eaad27",
      "metadata": {
        "id": "f5eaad27"
      },
      "source": [
        "## An Introduction to Monte Carlo\n",
        "\n",
        "In this section we describe the Monte Carlo method of integration via a simple\n",
        "example.\n",
        "\n",
        "### Share Price with Known Distribution\n",
        "\n",
        "Let's suppose that we are considering buying a share (or many shares) in a\n",
        "given company.\n",
        "\n",
        "Our plan is either to \n",
        "\n",
        "* buy it now, hold it for one year and then sell it, or\n",
        "* do something else with our money.\n",
        "\n",
        "We start by thinking of the share price in one year as a random variable $S$.\n",
        "\n",
        "(Let's forget about dividends for now, so that our return on holding the share\n",
        "is the relative change in its price.)\n",
        "\n",
        "To decide whether or not to go ahead, we need to know some features of the\n",
        "distribution of $S$.\n",
        "\n",
        "For example, we might decide to buy if the mean is high and the variance is\n",
        "low.\n",
        "\n",
        "(High expected returns and low risk.)"
      ]
    },
    {
      "cell_type": "markdown",
      "id": "2c0efa69",
      "metadata": {
        "id": "2c0efa69"
      },
      "source": [
        "Suppose that, after analyzing the data, we have decided that $S$ is well\n",
        "represented by a lognormal distribution with parameters $\\mu, \\sigma$ .\n",
        "\n",
        "* $S$ has the same distribution as $\\exp(\\mu + \\sigma Z)$ where $Z$ is standard normal.\n",
        "* we write this statement as $S \\sim LN(\\mu, \\sigma)$.\n",
        "\n",
        "Any good reference on statistics will tell us that the mean and variance are\n",
        "\n",
        "$$\n",
        "    \\mathbb E S \n",
        "        = \\exp \\left(\\mu + \\frac{\\sigma^2}{2} \\right)\n",
        "$$\n",
        "\n",
        "and \n",
        "\n",
        "$$ \n",
        "    \\mathop{\\mathrm{Var}} S \n",
        "    = [\\exp(\\sigma^2) - 1] \\exp(2\\mu + \\sigma^2)\n",
        "$$\n",
        "\n",
        "So far we have no need for a computer."
      ]
    },
    {
      "cell_type": "markdown",
      "id": "b63df2f7",
      "metadata": {
        "id": "b63df2f7"
      },
      "source": [
        "### Share Price with Unknown Distribution\n",
        "\n",
        "But now suppose that we study the distribution of $S$ more carefully, leading\n",
        "us to decompose the price into multiple factors.\n",
        "\n",
        "In particular, we conclude that the share price depends on three variables,\n",
        "with\n",
        "\n",
        "$$\n",
        "    S = (X_1 + X_2 + X_3)^p\n",
        "$$\n",
        "\n",
        "We assume that\n",
        "\n",
        "* $p$ is a positive number, which is known to us,\n",
        "* $X_i \\sim LN(\\mu_i, \\sigma_i)$ for $i=1,2,3$,\n",
        "* the values of $\\mu_i, \\sigma_i$ have all been estimated, and\n",
        "* the random variables $X_1$, $X_2$ and $X_3$ are independent.\n",
        "\n",
        "How should we compute the mean of $S$?\n",
        "\n",
        "To do this with pencil and paper is hard (unless, say, $p=1$).\n",
        "\n",
        "But fortunately there's an easy way to do this, at least approximately:\n",
        "\n",
        "1. Generate $n$ independent draws of $X_1$, $X_2$ and $X_3$ on a computer,\n",
        "1. Use these draws to generate $n$ independent draws of $S$, and\n",
        "1. Take the average value of these draws of $S$.\n",
        "\n",
        "By the law of large numbers, this average will be close to the true mean when\n",
        "$n$ is large.\n",
        "\n",
        "We use the following values for $p$ and each $\\mu_i$ and $\\sigma_i$."
      ]
    },
    {
      "cell_type": "code",
      "execution_count": 2,
      "id": "fac504ee",
      "metadata": {
        "id": "fac504ee"
      },
      "outputs": [],
      "source": [
        "p = 0.5\n",
        "μ_1, μ_2, μ_3 = 0.2, 0.8, 0.4\n",
        "σ_1, σ_2, σ_3 = 0.1, 0.05, 0.2"
      ]
    },
    {
      "cell_type": "markdown",
      "id": "134dddeb",
      "metadata": {
        "id": "134dddeb"
      },
      "source": [
        "Our default simulation size will be"
      ]
    },
    {
      "cell_type": "code",
      "execution_count": 3,
      "id": "3a1145ca",
      "metadata": {
        "id": "3a1145ca"
      },
      "outputs": [],
      "source": [
        "n = 10_000_000"
      ]
    },
    {
      "cell_type": "markdown",
      "id": "eb96ea62",
      "metadata": {
        "id": "eb96ea62"
      },
      "source": [
        "#### A Routine using Loops in Python"
      ]
    },
    {
      "cell_type": "markdown",
      "id": "13721002",
      "metadata": {
        "id": "13721002"
      },
      "source": [
        "Here's a routine using native Python loops to calculate the desired mean\n",
        "\n",
        "$$\n",
        "    \\frac{1}{n} \\sum_{i=1}^n S_i\n",
        "    \\approx \\mathbb E S\n",
        "$$"
      ]
    },
    {
      "cell_type": "code",
      "execution_count": 4,
      "id": "8a12ae95",
      "metadata": {
        "id": "8a12ae95",
        "outputId": "35671532-f949-4dcf-c025-e7e76697e7fb",
        "colab": {
          "base_uri": "https://localhost:8080/"
        }
      },
      "outputs": [
        {
          "output_type": "stream",
          "name": "stdout",
          "text": [
            "CPU times: user 53.5 s, sys: 256 ms, total: 53.7 s\n",
            "Wall time: 1min\n"
          ]
        },
        {
          "output_type": "execute_result",
          "data": {
            "text/plain": [
              "2.2296824880581068"
            ]
          },
          "metadata": {},
          "execution_count": 4
        }
      ],
      "source": [
        "%%time\n",
        "\n",
        "S = 0.0\n",
        "for i in range(n):\n",
        "    X_1 = np.exp(μ_1 + σ_1 * randn())\n",
        "    X_2 = np.exp(μ_2 + σ_2 * randn())\n",
        "    X_3 = np.exp(μ_3 + σ_3 * randn())\n",
        "    S += (X_1 + X_2 + X_3)**p\n",
        "S / n"
      ]
    },
    {
      "cell_type": "markdown",
      "id": "fd23c978",
      "metadata": {
        "id": "fd23c978"
      },
      "source": [
        "Let's construct a function that contains these operations:"
      ]
    },
    {
      "cell_type": "code",
      "execution_count": 5,
      "id": "2cf854c8",
      "metadata": {
        "id": "2cf854c8"
      },
      "outputs": [],
      "source": [
        "def compute_mean(n=10_000_000):\n",
        "    S = 0.0\n",
        "    for i in range(n):\n",
        "        X_1 = np.exp(μ_1 + σ_1 * randn())\n",
        "        X_2 = np.exp(μ_2 + σ_2 * randn())\n",
        "        X_3 = np.exp(μ_3 + σ_3 * randn())\n",
        "        S += (X_1 + X_2 + X_3)**p\n",
        "    return(S / n)"
      ]
    },
    {
      "cell_type": "code",
      "execution_count": 6,
      "id": "da1783ab",
      "metadata": {
        "id": "da1783ab",
        "outputId": "73958b2f-7588-4cdb-ea27-6a87e8dab995",
        "colab": {
          "base_uri": "https://localhost:8080/"
        }
      },
      "outputs": [
        {
          "output_type": "execute_result",
          "data": {
            "text/plain": [
              "2.2297086815493574"
            ]
          },
          "metadata": {},
          "execution_count": 6
        }
      ],
      "source": [
        "compute_mean()"
      ]
    },
    {
      "cell_type": "markdown",
      "id": "3cbcb99a",
      "metadata": {
        "id": "3cbcb99a"
      },
      "source": [
        "#### Using Numba's JIT Compiler"
      ]
    },
    {
      "cell_type": "code",
      "execution_count": 7,
      "id": "9a7f6fc0",
      "metadata": {
        "id": "9a7f6fc0"
      },
      "outputs": [],
      "source": [
        "compute_mean_numba = numba.jit(compute_mean)"
      ]
    },
    {
      "cell_type": "code",
      "execution_count": 8,
      "id": "c0383035",
      "metadata": {
        "id": "c0383035",
        "outputId": "2aa46e4e-9d85-4c04-f1f4-ba6b7a57fe25",
        "colab": {
          "base_uri": "https://localhost:8080/"
        }
      },
      "outputs": [
        {
          "output_type": "stream",
          "name": "stdout",
          "text": [
            "CPU times: user 2.19 s, sys: 144 ms, total: 2.33 s\n",
            "Wall time: 2.27 s\n"
          ]
        },
        {
          "output_type": "execute_result",
          "data": {
            "text/plain": [
              "2.2296810209118942"
            ]
          },
          "metadata": {},
          "execution_count": 8
        }
      ],
      "source": [
        "%%time\n",
        "\n",
        "compute_mean_numba()"
      ]
    },
    {
      "cell_type": "code",
      "execution_count": 9,
      "id": "669cb0ec",
      "metadata": {
        "id": "669cb0ec",
        "outputId": "31171bb3-4d80-4b21-cdee-133e31a7f5c1",
        "colab": {
          "base_uri": "https://localhost:8080/"
        }
      },
      "outputs": [
        {
          "output_type": "stream",
          "name": "stdout",
          "text": [
            "CPU times: user 1.85 s, sys: 1.96 ms, total: 1.85 s\n",
            "Wall time: 1.9 s\n"
          ]
        },
        {
          "output_type": "execute_result",
          "data": {
            "text/plain": [
              "2.2297533743020925"
            ]
          },
          "metadata": {},
          "execution_count": 9
        }
      ],
      "source": [
        "%%time\n",
        "\n",
        "compute_mean_numba()"
      ]
    },
    {
      "cell_type": "markdown",
      "id": "0b7215f1",
      "metadata": {
        "id": "0b7215f1"
      },
      "source": [
        "#### A Vectorized Routine"
      ]
    },
    {
      "cell_type": "markdown",
      "id": "efa8a2bc",
      "metadata": {
        "id": "efa8a2bc"
      },
      "source": [
        "Now we implement a vectorized routine using traditional NumPy array processing."
      ]
    },
    {
      "cell_type": "code",
      "execution_count": 10,
      "id": "e94d8b75",
      "metadata": {
        "id": "e94d8b75"
      },
      "outputs": [],
      "source": [
        "def compute_mean_vectorized(n=10_000_000):\n",
        "    X_1 = np.exp(μ_1 + σ_1 * randn(n))\n",
        "    X_2 = np.exp(μ_2 + σ_2 * randn(n))\n",
        "    X_3 = np.exp(μ_3 + σ_3 * randn(n))\n",
        "    S = (X_1 + X_2 + X_3)**p\n",
        "    return(S.mean())"
      ]
    },
    {
      "cell_type": "code",
      "execution_count": 11,
      "id": "1b4125c4",
      "metadata": {
        "id": "1b4125c4",
        "outputId": "3fe427f2-858b-4a41-d275-6f3dcddc81f5",
        "colab": {
          "base_uri": "https://localhost:8080/"
        }
      },
      "outputs": [
        {
          "output_type": "stream",
          "name": "stdout",
          "text": [
            "CPU times: user 1.3 s, sys: 107 ms, total: 1.41 s\n",
            "Wall time: 1.43 s\n"
          ]
        },
        {
          "output_type": "execute_result",
          "data": {
            "text/plain": [
              "2.2297789083934867"
            ]
          },
          "metadata": {},
          "execution_count": 11
        }
      ],
      "source": [
        "%%time\n",
        "\n",
        "compute_mean_vectorized()"
      ]
    },
    {
      "cell_type": "markdown",
      "id": "538dc70f",
      "metadata": {
        "id": "538dc70f"
      },
      "source": [
        "#### Using Google JAX"
      ]
    },
    {
      "cell_type": "markdown",
      "id": "9e4b0af4",
      "metadata": {
        "id": "9e4b0af4"
      },
      "source": [
        "Finally, let's try to shift this to the GPU (if you have one) and parallelize it effectively."
      ]
    },
    {
      "cell_type": "code",
      "execution_count": 12,
      "id": "a6d7c9e8",
      "metadata": {
        "id": "a6d7c9e8"
      },
      "outputs": [],
      "source": [
        "import jax\n",
        "import jax.numpy as jnp"
      ]
    },
    {
      "cell_type": "code",
      "execution_count": 13,
      "id": "34771f24",
      "metadata": {
        "id": "34771f24",
        "outputId": "02287d91-bbbf-42f6-9779-3f35c0d12c3e",
        "colab": {
          "base_uri": "https://localhost:8080/"
        }
      },
      "outputs": [
        {
          "output_type": "stream",
          "name": "stdout",
          "text": [
            "Tue Apr 25 04:07:34 2023       \n",
            "+-----------------------------------------------------------------------------+\n",
            "| NVIDIA-SMI 525.85.12    Driver Version: 525.85.12    CUDA Version: 12.0     |\n",
            "|-------------------------------+----------------------+----------------------+\n",
            "| GPU  Name        Persistence-M| Bus-Id        Disp.A | Volatile Uncorr. ECC |\n",
            "| Fan  Temp  Perf  Pwr:Usage/Cap|         Memory-Usage | GPU-Util  Compute M. |\n",
            "|                               |                      |               MIG M. |\n",
            "|===============================+======================+======================|\n",
            "|   0  Tesla T4            Off  | 00000000:00:04.0 Off |                    0 |\n",
            "| N/A   47C    P8     9W /  70W |      0MiB / 15360MiB |      0%      Default |\n",
            "|                               |                      |                  N/A |\n",
            "+-------------------------------+----------------------+----------------------+\n",
            "                                                                               \n",
            "+-----------------------------------------------------------------------------+\n",
            "| Processes:                                                                  |\n",
            "|  GPU   GI   CI        PID   Type   Process name                  GPU Memory |\n",
            "|        ID   ID                                                   Usage      |\n",
            "|=============================================================================|\n",
            "|  No running processes found                                                 |\n",
            "+-----------------------------------------------------------------------------+\n"
          ]
        }
      ],
      "source": [
        "!nvidia-smi"
      ]
    },
    {
      "cell_type": "code",
      "execution_count": 14,
      "id": "69684211",
      "metadata": {
        "id": "69684211"
      },
      "outputs": [],
      "source": [
        "def compute_mean_jax(n=10_000_000):\n",
        "    key = jax.random.PRNGKey(1)\n",
        "    Z = jax.random.normal(key, (3, n))\n",
        "    X_1 = jnp.exp(μ_1 + σ_1 * Z[0,:])\n",
        "    X_2 = jnp.exp(μ_2 + σ_2 * Z[1,:])\n",
        "    X_3 = jnp.exp(μ_3 + σ_3 * Z[2,:])\n",
        "    S = (X_1 + X_2 + X_3)**p\n",
        "    return(S.mean())"
      ]
    },
    {
      "cell_type": "code",
      "execution_count": 15,
      "id": "7a1729b8",
      "metadata": {
        "id": "7a1729b8",
        "outputId": "8de76693-fb72-4341-ec85-feb5dde87bcc",
        "colab": {
          "base_uri": "https://localhost:8080/"
        }
      },
      "outputs": [
        {
          "output_type": "stream",
          "name": "stdout",
          "text": [
            "CPU times: user 1.45 s, sys: 872 ms, total: 2.32 s\n",
            "Wall time: 6.36 s\n"
          ]
        },
        {
          "output_type": "execute_result",
          "data": {
            "text/plain": [
              "Array(2.2297425, dtype=float32)"
            ]
          },
          "metadata": {},
          "execution_count": 15
        }
      ],
      "source": [
        "%%time\n",
        "\n",
        "compute_mean_jax()"
      ]
    },
    {
      "cell_type": "code",
      "execution_count": 16,
      "id": "e75f93ca",
      "metadata": {
        "id": "e75f93ca"
      },
      "outputs": [],
      "source": [
        "compute_mean_jax_jitted = jax.jit(compute_mean_jax)"
      ]
    },
    {
      "cell_type": "code",
      "execution_count": 17,
      "id": "badf664d",
      "metadata": {
        "id": "badf664d",
        "outputId": "fbc6ce85-34e3-4c87-865b-b9c431f1744a",
        "colab": {
          "base_uri": "https://localhost:8080/"
        }
      },
      "outputs": [
        {
          "output_type": "stream",
          "name": "stdout",
          "text": [
            "CPU times: user 440 ms, sys: 5.11 ms, total: 445 ms\n",
            "Wall time: 602 ms\n"
          ]
        },
        {
          "output_type": "execute_result",
          "data": {
            "text/plain": [
              "Array(2.2297425, dtype=float32)"
            ]
          },
          "metadata": {},
          "execution_count": 17
        }
      ],
      "source": [
        "%%time\n",
        "\n",
        "compute_mean_jax_jitted()"
      ]
    },
    {
      "cell_type": "code",
      "execution_count": 18,
      "id": "4713f80f",
      "metadata": {
        "id": "4713f80f",
        "outputId": "c9afffa5-efaa-4ddf-8f9d-106f1ba63a45",
        "colab": {
          "base_uri": "https://localhost:8080/"
        }
      },
      "outputs": [
        {
          "output_type": "stream",
          "name": "stdout",
          "text": [
            "CPU times: user 643 µs, sys: 0 ns, total: 643 µs\n",
            "Wall time: 497 µs\n"
          ]
        },
        {
          "output_type": "execute_result",
          "data": {
            "text/plain": [
              "Array(2.2297425, dtype=float32)"
            ]
          },
          "metadata": {},
          "execution_count": 18
        }
      ],
      "source": [
        "%%time\n",
        "\n",
        "compute_mean_jax_jitted()"
      ]
    },
    {
      "cell_type": "markdown",
      "id": "9114f326",
      "metadata": {
        "id": "9114f326"
      },
      "source": [
        "## Pricing a European Call Option under Risk Neutrality\n",
        "\n",
        "As our next step, we are going to price a European call option under risk\n",
        "neutrality.\n",
        "\n",
        "Let's first discuss risk neutrality and then introduce European options.\n",
        "\n",
        "### Risk-Neutral Pricing\n",
        "\n",
        "When we use risk-neutral pricing, we determine the price of a given asset\n",
        "according to its expected payoff.\n",
        "\n",
        "$$\n",
        "\\text{cost } = \\text{ expected benefit}\n",
        "$$\n",
        "\n",
        "For example, suppose someone promises to pay you\n",
        "\n",
        "- 1,000,000 dollars if \"heads\" is the outcome of a fair coin flip\n",
        "- 0 dollars if \"tails\" is the outcome\n",
        "\n",
        "Let's denote the payoff as $G$, so that \n",
        "\n",
        "$$\n",
        "    \\mathbb P\\left\\{G = 10^6 \\right\\} = \\mathbb P\\{G = 0\\} = \\frac{1}{2}\n",
        "$$\n",
        "\n",
        "Suppose in addition that you can sell this promise to anyone who wants to\n",
        "hold it \n",
        "\n",
        "- First they pay you $P$, the price at which you sell it\n",
        "- Then they get $G$, which could be either 1,000,000 or 0.\n",
        "\n",
        "What's a fair price for this asset (this promise)?\n",
        "\n",
        "The definition of fair is ambiguous but what we can say is that the\n",
        "risk-neutral price is 500,000 dollars.\n",
        "\n",
        "This is because the risk-neutral price is just the expected payoff of the\n",
        "asset, which is\n",
        "\n",
        "$$\n",
        "    \\mathbb E G = \\frac{1}{2} \\times 10^6 + \\frac{1}{2} \\times 0 = 5 \\times 10^5\n",
        "$$"
      ]
    },
    {
      "cell_type": "markdown",
      "id": "f2fe4c26",
      "metadata": {
        "id": "f2fe4c26"
      },
      "source": [
        "### A Comment on Risk\n",
        "\n",
        "As suggested by the name, the risk-neutral price ignores risk.\n",
        "\n",
        "To understand this, consider whether you would pay 500,000 dollars for such a\n",
        "promise.\n",
        "\n",
        "Would you prefer to receive 500,000 for sure or 1,000,000 dollars with\n",
        "50% probability and nothing with 50% probability?\n",
        "\n",
        "At least some readers will strictly prefer the first option --- although some\n",
        "might prefer the second.\n",
        "\n",
        "Thinking about this makes us realize that 500,000 is not necessarily the\n",
        "\"right\" price --- or the price that we would see if there was a market for\n",
        "these promises.\n",
        "\n",
        "Nonetheless, the risk-neutral price is an important benchmark, which economists\n",
        "and financial market participants routinely try to calculate."
      ]
    },
    {
      "cell_type": "markdown",
      "id": "f9f25fa3",
      "metadata": {
        "id": "f9f25fa3"
      },
      "source": [
        "### Discounting\n",
        "\n",
        "One thing we ignored in the previous discussion was time.\n",
        "\n",
        "In general, receiving $x$ dollars now is preferable to receiving $x$ dollars\n",
        "in $n$ periods (e.g., 10 years).\n",
        "\n",
        "After all, if we receive $x$ dollars now, we could put it in the bank at\n",
        "interest rate $r > 0$ and receive $ (1 + r)^n x $ in $n$ periods.\n",
        "\n",
        "Hence future payments need to be discounted.\n",
        "\n",
        "We will implement discounting by \n",
        "\n",
        "* multiplying a payment in one period by $\\beta < 1$\n",
        "* multiplying a payment in $n$ periods by $\\beta^n$, etc.\n",
        "\n",
        "The same adjustment needs to be applied to our risk-neutral price for the\n",
        "promise described above.\n",
        "\n",
        "Thus, if $G$ is realized in $n$ periods, then the risk-neutral price is\n",
        "\n",
        "$$\n",
        "    P = \\beta^n \\mathbb E G \n",
        "      = \\beta^n 5 \\times 10^5\n",
        "$$"
      ]
    },
    {
      "cell_type": "markdown",
      "id": "2a416b18",
      "metadata": {
        "id": "2a416b18"
      },
      "source": [
        "### European Call Options\n",
        "\n",
        "Now let's price a European call option.\n",
        "\n",
        "The option is described by three things:\n",
        "\n",
        "2. $n$, the **expiry date**,\n",
        "2. $K$, the **strike price**, and\n",
        "3. $S_n$, the price of the **underlying** asset at date $n$.\n",
        "\n",
        "For example, suppose that the underlying is one share in Amazon.\n",
        "\n",
        "The owner of this option has the right to buy one share in Amazon at price $K$ after $n$ days.\n",
        "\n",
        "If $S_n > K$, then the owner will exercise the option, buy at $K$, sell at\n",
        "$S_n$, and make profit $S_n - K$.\n",
        "\n",
        "If $S_n \\leq K$, then the owner will not exercise the option and the payoff is zero.\n",
        "\n",
        "Thus, the payoff is $\\max\\{ S_n - K, 0 \\}$.\n",
        "\n",
        "Under the assumption of risk neutrality,  the price of the option is \n",
        "the expected discounted payoff:\n",
        "\n",
        "$$ P = \\beta^n \\mathbb E \\max\\{ S_n - K, 0 \\} $$\n",
        "\n",
        "Now all we need to do is specify the distribution of $S_n$, so the expectation\n",
        "can be calculated."
      ]
    },
    {
      "cell_type": "markdown",
      "id": "534c1379",
      "metadata": {
        "id": "534c1379"
      },
      "source": [
        "**Exercise**\n",
        "\n",
        "Suppose we know that $S_n \\sim LN(\\mu, \\sigma)$ and $\\mu$ and $\\sigma$ are known.\n",
        "\n",
        "Use the fact that if $S_n^1, \\ldots, S_n^M$ are independent draws from this lognormal distribution then, by the law of large numbers,\n",
        "\n",
        "$$ \\mathbb E \\max\\{ S_n - K, 0 \\} \n",
        "    \\approx\n",
        "    \\frac{1}{M} \\sum_{m=1}^M \\max \\{S_n^m - K, 0 \\}\n",
        "    $$"
      ]
    },
    {
      "cell_type": "markdown",
      "id": "f26d462d",
      "metadata": {
        "id": "f26d462d"
      },
      "source": [
        "Use the following parameter values:"
      ]
    },
    {
      "cell_type": "code",
      "execution_count": 19,
      "id": "325ca91a",
      "metadata": {
        "id": "325ca91a"
      },
      "outputs": [],
      "source": [
        "μ = 1.0\n",
        "σ = 0.1"
      ]
    },
    {
      "cell_type": "code",
      "execution_count": 20,
      "id": "bb39b2c2",
      "metadata": {
        "id": "bb39b2c2"
      },
      "outputs": [],
      "source": [
        "K = 1\n",
        "n = 10\n",
        "β = 0.95"
      ]
    },
    {
      "cell_type": "markdown",
      "id": "f5c6d6dc",
      "metadata": {
        "id": "f5c6d6dc"
      },
      "source": [
        "Set the simulation size to"
      ]
    },
    {
      "cell_type": "code",
      "execution_count": 21,
      "id": "5d7253f4",
      "metadata": {
        "id": "5d7253f4"
      },
      "outputs": [],
      "source": [
        "M = 10_000_000"
      ]
    },
    {
      "cell_type": "code",
      "execution_count": 22,
      "id": "60bf5f26",
      "metadata": {
        "id": "60bf5f26"
      },
      "outputs": [],
      "source": [
        "# Put your code here"
      ]
    },
    {
      "cell_type": "code",
      "execution_count": 23,
      "id": "ad1927a1",
      "metadata": {
        "id": "ad1927a1",
        "outputId": "e5397324-fa4d-4ead-a508-a3c19a22b086",
        "colab": {
          "base_uri": "https://localhost:8080/"
        }
      },
      "outputs": [
        {
          "output_type": "stream",
          "name": "stdout",
          "text": [
            "solution below\n",
            "solution below\n",
            "solution below\n",
            "solution below\n",
            "solution below\n",
            "solution below\n",
            "solution below\n",
            "solution below\n",
            "solution below\n",
            "solution below\n",
            "solution below\n",
            "solution below\n"
          ]
        }
      ],
      "source": [
        "for _ in range(12):\n",
        "    print('solution below')"
      ]
    },
    {
      "cell_type": "code",
      "execution_count": 24,
      "id": "63762287",
      "metadata": {
        "id": "63762287",
        "outputId": "92e2c147-dfb7-477e-e95b-ae6d87eeee2b",
        "colab": {
          "base_uri": "https://localhost:8080/"
        }
      },
      "outputs": [
        {
          "output_type": "stream",
          "name": "stdout",
          "text": [
            "The Monte Carlo option price is 1.036906\n"
          ]
        }
      ],
      "source": [
        "S = np.exp(μ + σ * np.random.randn(M))\n",
        "return_draws = np.maximum(S - K, 0)\n",
        "P = β**n * np.mean(return_draws) \n",
        "print(f\"The Monte Carlo option price is {P:3f}\")"
      ]
    },
    {
      "cell_type": "markdown",
      "id": "08ce108c",
      "metadata": {
        "id": "08ce108c"
      },
      "source": [
        "## Pricing Via a Dynamic Model\n",
        "\n",
        "In this exercise we investigate a more realistic model for the share price $S_n$.\n",
        "\n",
        "This comes from specifying the underlying dynamics of the share price.\n",
        "\n",
        "First we specify the dynamics.\n",
        "\n",
        "Then we'll compute the price of the option using Monte Carlo.\n",
        "\n",
        "### Simple Dynamics\n",
        "\n",
        "One simple model for $\\{S_t\\}$ is\n",
        "\n",
        "$$ \\ln \\frac{S_{t+1}}{S_t} = \\mu + \\sigma \\xi_{t+1} $$\n",
        "\n",
        "where \n",
        "\n",
        "* $S_0$ is normally distributed and\n",
        "* $\\{ \\xi_t \\}$ is IID and standard normal.  \n",
        "\n",
        "\n",
        "**Exercise**\n",
        "\n",
        "Show that, under the stated assumptions, $S_n$ is lognormally distributed."
      ]
    },
    {
      "cell_type": "code",
      "execution_count": 25,
      "id": "dafc7e98",
      "metadata": {
        "id": "dafc7e98",
        "outputId": "2722dc1f-230c-471e-88da-dfaaa1dc9638",
        "colab": {
          "base_uri": "https://localhost:8080/"
        }
      },
      "outputs": [
        {
          "output_type": "stream",
          "name": "stdout",
          "text": [
            "solution below\n",
            "solution below\n",
            "solution below\n",
            "solution below\n",
            "solution below\n",
            "solution below\n",
            "solution below\n",
            "solution below\n",
            "solution below\n",
            "solution below\n",
            "solution below\n",
            "solution below\n"
          ]
        }
      ],
      "source": [
        "for _ in range(12):\n",
        "    print('solution below')"
      ]
    },
    {
      "cell_type": "markdown",
      "id": "9d807d67",
      "metadata": {
        "id": "9d807d67"
      },
      "source": [
        "With $s_t := \\ln S_t$, the price dynamics become\n",
        "\n",
        "$$ s_{t+1} = s_t + \\mu + \\sigma \\xi_{t+1} $$\n",
        "\n",
        "Since $s_0$ is normal and $\\xi_1$ is normal and IID, we see that $s_1$ is\n",
        "normally distributed.\n",
        "\n",
        "Continuing in this way shows that $s_n$ is normally distributed.\n",
        "\n",
        "Hence $S_n = \\exp(s_n)$ is lognormal.\n",
        "\n",
        "\n",
        "### Problems with Simple Dynamics\n",
        "\n",
        "The simple dynamic model we studied above is convenient, since we can work out\n",
        "the distribution of $S_n$.\n",
        "\n",
        "\n",
        "However, its predictions are counterfactual because, in the real world,\n",
        "volatility (measured by $\\sigma$) is not stationary.\n",
        "\n",
        "Instead it rather changes over time, sometimes high (like during the GFC) and sometimes low.\n",
        "\n",
        "\n",
        "### More Realistic Dynamics\n",
        "\n",
        "As stated above, one problem with our simple model is that $\\sigma$ is\n",
        "constant.\n",
        "\n",
        "This leads us to study the improved version:\n",
        "\n",
        "$$ \\ln \\frac{S_{t+1}}{S_t} = \\mu + \\sigma_t \\xi_{t+1} $$\n",
        "\n",
        "where \n",
        "\n",
        "$$ \n",
        "    \\sigma_t = \\exp(h_t), \n",
        "    \\quad\n",
        "        h_{t+1} = \\rho h_t + \\nu \\eta_{t+1}\n",
        "$$\n",
        "\n",
        "Here $\\{\\eta_t\\}$ is also IID and standard normal."
      ]
    },
    {
      "cell_type": "markdown",
      "id": "fbfeaa96",
      "metadata": {
        "id": "fbfeaa96"
      },
      "source": [
        "### Default Parameters\n",
        "\n",
        "For the dynamic model, we adopt the following parameter values."
      ]
    },
    {
      "cell_type": "code",
      "execution_count": 26,
      "id": "3e0eb317",
      "metadata": {
        "id": "3e0eb317"
      },
      "outputs": [],
      "source": [
        "μ  = 0.0001\n",
        "ρ  = 0.1\n",
        "ν  = 0.001\n",
        "S0 = 10\n",
        "h0 = 0"
      ]
    },
    {
      "cell_type": "markdown",
      "id": "f93c15c8",
      "metadata": {
        "id": "f93c15c8"
      },
      "source": [
        "(Here `S0` is $S_0$ and `h0` is $h_0$.)\n",
        "\n",
        "For the option we use the following defaults."
      ]
    },
    {
      "cell_type": "code",
      "execution_count": 27,
      "id": "812c0ddc",
      "metadata": {
        "id": "812c0ddc"
      },
      "outputs": [],
      "source": [
        "K = 100\n",
        "n = 10\n",
        "β = 0.95"
      ]
    },
    {
      "cell_type": "markdown",
      "id": "a825ddba",
      "metadata": {
        "id": "a825ddba"
      },
      "source": [
        "**Exercise**\n",
        "\n",
        "\n",
        "Write a function that simulates the sequence $S_0, \\ldots, S_n$, where the parameters are set to\n",
        "\n",
        "Plot 50 paths of the form $S_0, \\ldots, S_n$."
      ]
    },
    {
      "cell_type": "code",
      "execution_count": 28,
      "id": "0b37fb1f",
      "metadata": {
        "id": "0b37fb1f"
      },
      "outputs": [],
      "source": [
        "# Put your code here"
      ]
    },
    {
      "cell_type": "code",
      "execution_count": 29,
      "id": "5004078b",
      "metadata": {
        "id": "5004078b",
        "outputId": "193d358b-93ec-4d22-9739-022c028898a2",
        "colab": {
          "base_uri": "https://localhost:8080/"
        }
      },
      "outputs": [
        {
          "output_type": "stream",
          "name": "stdout",
          "text": [
            "solution below\n",
            "solution below\n",
            "solution below\n",
            "solution below\n",
            "solution below\n",
            "solution below\n",
            "solution below\n",
            "solution below\n",
            "solution below\n",
            "solution below\n",
            "solution below\n",
            "solution below\n"
          ]
        }
      ],
      "source": [
        "for _ in range(12):\n",
        "    print('solution below')"
      ]
    },
    {
      "cell_type": "markdown",
      "id": "470e2d4a",
      "metadata": {
        "id": "470e2d4a"
      },
      "source": [
        "With $s_t := \\ln S_t$, the price dynamics become\n",
        "\n",
        "$$ s_{t+1} = s_t + \\mu + \\exp(h_t) \\xi_{t+1} $$\n",
        "\n",
        "Here is a function to simulate a path using this equation:"
      ]
    },
    {
      "cell_type": "code",
      "execution_count": 30,
      "id": "1f0be388",
      "metadata": {
        "id": "1f0be388"
      },
      "outputs": [],
      "source": [
        "from numpy.random import randn\n",
        "\n",
        "def simulate_asset_price_path(μ=μ, S0=S0, h0=h0, n=n, ρ=ρ, ν=ν):\n",
        "    s = np.empty(n+1)\n",
        "    s[0] = np.log(S0)\n",
        "\n",
        "    h = h0\n",
        "    for t in range(n):\n",
        "        s[t+1] = s[t] + μ + np.exp(h) * randn()\n",
        "        h = ρ * h + ν * randn()\n",
        "        \n",
        "    return np.exp(s)"
      ]
    },
    {
      "cell_type": "markdown",
      "id": "1c2b142f",
      "metadata": {
        "id": "1c2b142f"
      },
      "source": [
        "Here we plot the paths and the log of the paths."
      ]
    },
    {
      "cell_type": "code",
      "execution_count": 31,
      "id": "c7ef7efb",
      "metadata": {
        "id": "c7ef7efb",
        "outputId": "3f4866e3-dcc6-4d1f-d507-508aed774ffa",
        "colab": {
          "base_uri": "https://localhost:8080/",
          "height": 486
        }
      },
      "outputs": [
        {
          "output_type": "display_data",
          "data": {
            "text/plain": [
              "<Figure size 640x480 with 2 Axes>"
            ],
            "image/png": "[encoded data removed]"
          },
          "metadata": {}
        }
      ],
      "source": [
        "fig, axes = plt.subplots(2, 1)\n",
        "\n",
        "titles = 'log paths', 'paths'\n",
        "transforms = np.log, lambda x: x\n",
        "for ax, transform, title in zip(axes, transforms, titles):\n",
        "    for i in range(50):\n",
        "        path = simulate_asset_price_path()\n",
        "        ax.plot(transform(path))\n",
        "    ax.set_title(title)\n",
        "    \n",
        "fig.tight_layout()\n",
        "plt.show()"
      ]
    },
    {
      "cell_type": "markdown",
      "id": "3bce257b",
      "metadata": {
        "id": "3bce257b"
      },
      "source": [
        "**Exercise**\n",
        "\n",
        "Compute the price of the option $P_0$ by Monte Carlo, averaging over realizations $S_n^1, \\ldots, S_n^M$ of $S_n$ and appealing to the law of large numbers:\n",
        "\n",
        "$$ \\mathbb E \\max\\{ S_n - K, 0 \\} \n",
        "    \\approx\n",
        "    \\frac{1}{M} \\sum_{m=1}^M \\max \\{S_n^m - K, 0 \\}\n",
        "    $$\n",
        "    \n",
        "\n",
        "To the extend that you can, write fast, efficient code to compute the option price.  \n",
        "\n",
        "In particular, try to speed up the code above using `jit` or `njit` from Numba."
      ]
    },
    {
      "cell_type": "code",
      "execution_count": 32,
      "id": "b9b81399",
      "metadata": {
        "id": "b9b81399"
      },
      "outputs": [],
      "source": [
        "# Put your code here"
      ]
    },
    {
      "cell_type": "code",
      "execution_count": 33,
      "id": "dfef86a2",
      "metadata": {
        "id": "dfef86a2",
        "outputId": "5005c14b-74c8-4ca9-ed99-dcea8309b979",
        "colab": {
          "base_uri": "https://localhost:8080/"
        }
      },
      "outputs": [
        {
          "output_type": "stream",
          "name": "stdout",
          "text": [
            "solution below\n",
            "solution below\n",
            "solution below\n",
            "solution below\n",
            "solution below\n",
            "solution below\n",
            "solution below\n",
            "solution below\n",
            "solution below\n",
            "solution below\n",
            "solution below\n",
            "solution below\n"
          ]
        }
      ],
      "source": [
        "for _ in range(12):\n",
        "    print('solution below')"
      ]
    },
    {
      "cell_type": "code",
      "execution_count": 34,
      "id": "ac9da692",
      "metadata": {
        "id": "ac9da692"
      },
      "outputs": [],
      "source": [
        "from numba import njit, prange"
      ]
    },
    {
      "cell_type": "code",
      "execution_count": 35,
      "id": "99a39147",
      "metadata": {
        "id": "99a39147"
      },
      "outputs": [],
      "source": [
        "@njit\n",
        "def compute_call_price(β=β,\n",
        "                       μ=μ,\n",
        "                       S0=S0,\n",
        "                       h0=h0,\n",
        "                       K=K,\n",
        "                       n=n,\n",
        "                       ρ=ρ,\n",
        "                       ν=ν,\n",
        "                       M=10_000_000):\n",
        "    current_sum = 0.0\n",
        "    # For each sample path\n",
        "    for m in range(M):\n",
        "        s = np.log(S0)\n",
        "        h = h0\n",
        "        # Simulate forward in time\n",
        "        for t in range(n):\n",
        "            s = s + μ + np.exp(h) * randn()\n",
        "            h = ρ * h + ν * randn()\n",
        "        # And add the value max{S_n - K, 0} to current_sum\n",
        "        current_sum += np.maximum(np.exp(s) - K, 0)\n",
        "        \n",
        "    return β**n * current_sum / M"
      ]
    },
    {
      "cell_type": "code",
      "execution_count": 36,
      "id": "872d22c0",
      "metadata": {
        "id": "872d22c0",
        "outputId": "75905c85-71ca-4830-f8d6-bbc81d67b664",
        "colab": {
          "base_uri": "https://localhost:8080/"
        }
      },
      "outputs": [
        {
          "output_type": "stream",
          "name": "stdout",
          "text": [
            "CPU times: user 7.98 s, sys: 28.2 ms, total: 8.01 s\n",
            "Wall time: 8.06 s\n"
          ]
        },
        {
          "output_type": "execute_result",
          "data": {
            "text/plain": [
              "850.1075361413203"
            ]
          },
          "metadata": {},
          "execution_count": 36
        }
      ],
      "source": [
        "%%time \n",
        "compute_call_price()"
      ]
    },
    {
      "cell_type": "markdown",
      "id": "24839745",
      "metadata": {
        "id": "24839745"
      },
      "source": [
        "**Exercise**\n",
        "\n",
        "If you can, use `prange` from Numba to parallelize this code and make it even faster."
      ]
    },
    {
      "cell_type": "code",
      "execution_count": 37,
      "id": "1b284e4f",
      "metadata": {
        "id": "1b284e4f"
      },
      "outputs": [],
      "source": [
        "# Put your code here"
      ]
    },
    {
      "cell_type": "code",
      "execution_count": 38,
      "id": "076c1d7a",
      "metadata": {
        "id": "076c1d7a",
        "outputId": "329166c6-0810-437f-f7e7-6e6d7e0f8da8",
        "colab": {
          "base_uri": "https://localhost:8080/"
        }
      },
      "outputs": [
        {
          "output_type": "stream",
          "name": "stdout",
          "text": [
            "solution below\n",
            "solution below\n",
            "solution below\n",
            "solution below\n",
            "solution below\n",
            "solution below\n",
            "solution below\n",
            "solution below\n",
            "solution below\n",
            "solution below\n",
            "solution below\n",
            "solution below\n"
          ]
        }
      ],
      "source": [
        "for _ in range(12):\n",
        "    print('solution below')"
      ]
    },
    {
      "cell_type": "code",
      "execution_count": 39,
      "id": "561b1307",
      "metadata": {
        "id": "561b1307"
      },
      "outputs": [],
      "source": [
        "@njit(parallel=True)\n",
        "def compute_call_price_parallel(β=β,\n",
        "                                μ=μ,\n",
        "                                S0=S0,\n",
        "                                h0=h0,\n",
        "                                K=K,\n",
        "                                n=n,\n",
        "                                ρ=ρ,\n",
        "                                ν=ν,\n",
        "                                M=10_000_000):\n",
        "    current_sum = 0.0\n",
        "    # For each sample path\n",
        "    for m in prange(M):\n",
        "        s = np.log(S0)\n",
        "        h = h0\n",
        "        # Simulate forward in time\n",
        "        for t in range(n):\n",
        "            s = s + μ + np.exp(h) * randn()\n",
        "            h = ρ * h + ν * randn()\n",
        "        # And add the value max{S_n - K, 0} to current_sum\n",
        "        current_sum += np.maximum(np.exp(s) - K, 0)\n",
        "        \n",
        "    return β**n * current_sum / M"
      ]
    },
    {
      "cell_type": "code",
      "execution_count": 40,
      "id": "e678b868",
      "metadata": {
        "id": "e678b868",
        "outputId": "03853eb6-1474-4b7a-bb2c-8560a6ce3403",
        "colab": {
          "base_uri": "https://localhost:8080/"
        }
      },
      "outputs": [
        {
          "output_type": "execute_result",
          "data": {
            "text/plain": [
              "2"
            ]
          },
          "metadata": {},
          "execution_count": 40
        }
      ],
      "source": [
        "from numba import get_num_threads, set_num_threads\n",
        "get_num_threads()"
      ]
    },
    {
      "cell_type": "code",
      "execution_count": 41,
      "id": "4a6d18bf",
      "metadata": {
        "id": "4a6d18bf",
        "outputId": "421933ad-1d94-4072-ff6c-03842fab5169",
        "colab": {
          "base_uri": "https://localhost:8080/"
        }
      },
      "outputs": [
        {
          "output_type": "stream",
          "name": "stdout",
          "text": [
            "CPU times: user 11 s, sys: 25.6 ms, total: 11 s\n",
            "Wall time: 7.27 s\n"
          ]
        },
        {
          "output_type": "execute_result",
          "data": {
            "text/plain": [
              "867.3796934392012"
            ]
          },
          "metadata": {},
          "execution_count": 41
        }
      ],
      "source": [
        "%%time\n",
        "compute_call_price_parallel()"
      ]
    },
    {
      "cell_type": "code",
      "execution_count": 42,
      "id": "dd05d3bd",
      "metadata": {
        "id": "dd05d3bd",
        "outputId": "28100b46-6d0d-4b60-db84-efc99a23afc0",
        "colab": {
          "base_uri": "https://localhost:8080/"
        }
      },
      "outputs": [
        {
          "output_type": "stream",
          "name": "stdout",
          "text": [
            "CPU times: user 10.2 s, sys: 8.2 ms, total: 10.2 s\n",
            "Wall time: 5.32 s\n"
          ]
        },
        {
          "output_type": "execute_result",
          "data": {
            "text/plain": [
              "867.9281455018007"
            ]
          },
          "metadata": {},
          "execution_count": 42
        }
      ],
      "source": [
        "%%time\n",
        "compute_call_price_parallel()"
      ]
    },
    {
      "cell_type": "markdown",
      "id": "bb87f2e3",
      "metadata": {
        "id": "bb87f2e3"
      },
      "source": [
        "## Pricing a European Call Option Using JAX\n",
        "\n",
        "Previously we computed the value of a European call option via Monte Carlo using Numba-based routines.\n",
        "\n",
        "Let's compare how this looks, and how fast it runs, when we implement using [Google JAX](https://python-programming.quantecon.org/jax_intro.html)."
      ]
    },
    {
      "cell_type": "markdown",
      "id": "25846072",
      "metadata": {
        "id": "25846072"
      },
      "source": [
        "**Exercise**\n",
        "\n",
        "Try to shift the whole operation to the GPU using JAX and test your speed gain."
      ]
    },
    {
      "cell_type": "code",
      "execution_count": 43,
      "id": "d7aeceec",
      "metadata": {
        "id": "d7aeceec"
      },
      "outputs": [],
      "source": [
        "# Put your code here"
      ]
    },
    {
      "cell_type": "code",
      "execution_count": 44,
      "id": "44a6501c",
      "metadata": {
        "id": "44a6501c",
        "outputId": "10bed3cf-e3e0-41c4-ce1d-cc7012847937",
        "colab": {
          "base_uri": "https://localhost:8080/"
        }
      },
      "outputs": [
        {
          "output_type": "stream",
          "name": "stdout",
          "text": [
            "solution below\n",
            "solution below\n",
            "solution below\n",
            "solution below\n",
            "solution below\n",
            "solution below\n",
            "solution below\n",
            "solution below\n",
            "solution below\n",
            "solution below\n",
            "solution below\n",
            "solution below\n"
          ]
        }
      ],
      "source": [
        "for _ in range(12):\n",
        "    print('solution below')"
      ]
    },
    {
      "cell_type": "code",
      "execution_count": 45,
      "id": "94b7716b",
      "metadata": {
        "id": "94b7716b",
        "outputId": "739625cc-c06b-4e71-d735-c029fc302812",
        "colab": {
          "base_uri": "https://localhost:8080/"
        }
      },
      "outputs": [
        {
          "output_type": "stream",
          "name": "stdout",
          "text": [
            "Tue Apr 25 04:08:03 2023       \n",
            "+-----------------------------------------------------------------------------+\n",
            "| NVIDIA-SMI 525.85.12    Driver Version: 525.85.12    CUDA Version: 12.0     |\n",
            "|-------------------------------+----------------------+----------------------+\n",
            "| GPU  Name        Persistence-M| Bus-Id        Disp.A | Volatile Uncorr. ECC |\n",
            "| Fan  Temp  Perf  Pwr:Usage/Cap|         Memory-Usage | GPU-Util  Compute M. |\n",
            "|                               |                      |               MIG M. |\n",
            "|===============================+======================+======================|\n",
            "|   0  Tesla T4            Off  | 00000000:00:04.0 Off |                    0 |\n",
            "| N/A   51C    P0    27W /  70W |  11729MiB / 15360MiB |      0%      Default |\n",
            "|                               |                      |                  N/A |\n",
            "+-------------------------------+----------------------+----------------------+\n",
            "                                                                               \n",
            "+-----------------------------------------------------------------------------+\n",
            "| Processes:                                                                  |\n",
            "|  GPU   GI   CI        PID   Type   Process name                  GPU Memory |\n",
            "|        ID   ID                                                   Usage      |\n",
            "|=============================================================================|\n",
            "+-----------------------------------------------------------------------------+\n"
          ]
        }
      ],
      "source": [
        "!nvidia-smi"
      ]
    },
    {
      "cell_type": "code",
      "execution_count": 46,
      "id": "365dfa26",
      "metadata": {
        "id": "365dfa26"
      },
      "outputs": [],
      "source": [
        "import jax\n",
        "import jax.numpy as jnp"
      ]
    },
    {
      "cell_type": "code",
      "execution_count": 47,
      "id": "59b9c026",
      "metadata": {
        "id": "59b9c026"
      },
      "outputs": [],
      "source": [
        "@jax.jit\n",
        "def compute_call_price_jax(β=β,\n",
        "                           μ=μ,\n",
        "                           S0=S0,\n",
        "                           h0=h0,\n",
        "                           K=K,\n",
        "                           n=n,\n",
        "                           ρ=ρ,\n",
        "                           ν=ν,\n",
        "                           M=10_000_000,\n",
        "                           key=jax.random.PRNGKey(1)):\n",
        "\n",
        "    s = jnp.full(M, np.log(S0))\n",
        "    h = jnp.full(M, h0)\n",
        "    for t in range(n):\n",
        "        key, subkey = jax.random.split(key)\n",
        "        Z = jax.random.normal(subkey, (2, M))\n",
        "        s = s + μ + jnp.exp(h) * Z[0, :]\n",
        "        h = ρ * h + ν * Z[1, :]\n",
        "    expectation = jnp.mean(jnp.maximum(jnp.exp(s) - K, 0))\n",
        "        \n",
        "    return β**n * expectation"
      ]
    },
    {
      "cell_type": "code",
      "execution_count": 48,
      "id": "0e425be7",
      "metadata": {
        "id": "0e425be7",
        "outputId": "a6fdba6a-d727-43f6-817e-8c4d630d4471",
        "colab": {
          "base_uri": "https://localhost:8080/"
        }
      },
      "outputs": [
        {
          "output_type": "stream",
          "name": "stdout",
          "text": [
            "CPU times: user 1.52 s, sys: 45 ms, total: 1.57 s\n",
            "Wall time: 2.72 s\n"
          ]
        },
        {
          "output_type": "execute_result",
          "data": {
            "text/plain": [
              "Array(839.4134, dtype=float32)"
            ]
          },
          "metadata": {},
          "execution_count": 48
        }
      ],
      "source": [
        "%%time \n",
        "compute_call_price_jax().block_until_ready()"
      ]
    },
    {
      "cell_type": "code",
      "execution_count": 49,
      "id": "47086aa5",
      "metadata": {
        "id": "47086aa5",
        "outputId": "407c3eef-5aa8-4e70-85e3-25b8b5a5b82e",
        "colab": {
          "base_uri": "https://localhost:8080/"
        }
      },
      "outputs": [
        {
          "output_type": "stream",
          "name": "stdout",
          "text": [
            "CPU times: user 1.73 ms, sys: 28 µs, total: 1.76 ms\n",
            "Wall time: 34.5 ms\n"
          ]
        },
        {
          "output_type": "execute_result",
          "data": {
            "text/plain": [
              "Array(839.4134, dtype=float32)"
            ]
          },
          "metadata": {},
          "execution_count": 49
        }
      ],
      "source": [
        "%%time \n",
        "compute_call_price_jax().block_until_ready()"
      ]
    }
  ],
  "metadata": {
    "kernelspec": {
      "display_name": "Python 3 (ipykernel)",
      "language": "python",
      "name": "python3"
    },
    "colab": {
      "provenance": []
    },
    "accelerator": "GPU",
    "gpuClass": "standard"
  },
  "nbformat": 4,
  "nbformat_minor": 5
}