{
 "cells": [
  {
   "cell_type": "markdown",
   "id": "377dffbf",
   "metadata": {},
   "source": [
    "# New JIT and AOT Compilers"
   ]
  },
  {
   "cell_type": "markdown",
   "id": "af6ce81d",
   "metadata": {},
   "source": [
    "[John Stachurski](http://johnstachurski.net)"
   ]
  },
  {
   "cell_type": "code",
   "execution_count": null,
   "id": "b3bc836d",
   "metadata": {
    "nbpresent": {
     "id": "cacd76f0-600a-4ac9-ba39-ae23747177c8"
    },
    "slideshow": {
     "slide_type": "-"
    }
   },
   "outputs": [],
   "source": [
    "import numpy as np\n",
    "from numba import vectorize, jit, float64\n",
    "from quantecon.util import tic, toc\n",
    "import matplotlib.pyplot as plt"
   ]
  },
  {
   "cell_type": "markdown",
   "id": "5bb0d251",
   "metadata": {},
   "source": [
    "## Problem 1: A Time Series Model"
   ]
  },
  {
   "cell_type": "markdown",
   "id": "216d9a7f",
   "metadata": {},
   "source": [
    "Consider the time series model\n",
    "\n",
    "$$ x_{t+1} = \\alpha x_t (1 - x_t) $$\n",
    "\n",
    "Let's set $\\alpha = 4$"
   ]
  },
  {
   "cell_type": "code",
   "execution_count": null,
   "id": "01d7c6f6",
   "metadata": {},
   "outputs": [],
   "source": [
    "α = 4"
   ]
  },
  {
   "cell_type": "markdown",
   "id": "099218f2",
   "metadata": {},
   "source": [
    "Here's a typical time series:"
   ]
  },
  {
   "cell_type": "code",
   "execution_count": null,
   "id": "e18a460c",
   "metadata": {},
   "outputs": [],
   "source": [
    "n = 200\n",
    "x =  np.empty(n)\n",
    "x[0] = 0.2\n",
    "for t in range(n-1):\n",
    "    x[t+1] = α * x[t] * (1 - x[t])\n",
    "    \n",
    "plt.plot(x)\n",
    "plt.show()"
   ]
  },
  {
   "cell_type": "markdown",
   "id": "79de55f2",
   "metadata": {},
   "source": [
    "## Python Test"
   ]
  },
  {
   "cell_type": "markdown",
   "id": "fb7342e9",
   "metadata": {},
   "source": [
    "Here's a function that simulates for `n` periods, starting from `x0`, and returns **only the final** value:"
   ]
  },
  {
   "cell_type": "code",
   "execution_count": null,
   "id": "93fea40f",
   "metadata": {},
   "outputs": [],
   "source": [
    "def quad(x0, n):\n",
    "    x = x0\n",
    "    for i in range(1, n):\n",
    "        x = α * x * (1 - x)\n",
    "    return x"
   ]
  },
  {
   "cell_type": "markdown",
   "id": "de5370b2",
   "metadata": {},
   "source": [
    "Let's see how fast this runs:"
   ]
  },
  {
   "cell_type": "code",
   "execution_count": null,
   "id": "9301d162",
   "metadata": {},
   "outputs": [],
   "source": [
    "n = 10_000_000"
   ]
  },
  {
   "cell_type": "code",
   "execution_count": null,
   "id": "5fdc54b2",
   "metadata": {},
   "outputs": [],
   "source": [
    "tic()\n",
    "x = quad(0.2, n)\n",
    "toc()"
   ]
  },
  {
   "cell_type": "markdown",
   "id": "781a144b",
   "metadata": {},
   "source": [
    "## Fortran Test"
   ]
  },
  {
   "cell_type": "markdown",
   "id": "908f3918",
   "metadata": {},
   "source": [
    "Now let's try this in Fortran.\n",
    "\n",
    "Note --- this step is intended to be a demo and will only execute if\n",
    "\n",
    "* you have the file `fastquad.f90` in your pwd\n",
    "* you have a Fortran compiler installed and modify the compilation code below appropriately"
   ]
  },
  {
   "cell_type": "code",
   "execution_count": null,
   "id": "8bf87ae2",
   "metadata": {},
   "outputs": [],
   "source": [
    "%%file fortran_quad.f90\n",
    "\n",
    "PURE FUNCTION QUAD(X0, N)\n",
    " IMPLICIT NONE\n",
    " INTEGER, PARAMETER :: DP=KIND(0.d0)                           \n",
    " REAL(dp), INTENT(IN) :: X0\n",
    " REAL(dp) :: QUAD\n",
    " INTEGER :: I\n",
    " INTEGER, INTENT(IN) :: N\n",
    " QUAD = X0\n",
    " DO I = 1, N - 1                                                \n",
    "  QUAD = 4.0_dp * QUAD * real(1.0_dp - QUAD, dp)\n",
    " END DO\n",
    " RETURN\n",
    "END FUNCTION QUAD\n",
    "\n",
    "PROGRAM MAIN\n",
    " IMPLICIT NONE\n",
    " INTEGER, PARAMETER :: DP=KIND(0.d0)                          \n",
    " REAL(dp) :: START, FINISH, X, QUAD\n",
    " INTEGER :: N\n",
    " N = 10000000\n",
    " X = QUAD(0.2_dp, 10)\n",
    " CALL CPU_TIME(START)\n",
    " X = QUAD(0.2_dp, N)\n",
    " CALL CPU_TIME(FINISH)\n",
    " PRINT *,'last val = ', X\n",
    " PRINT *,'elapsed time = ', FINISH-START\n",
    "END PROGRAM MAIN"
   ]
  },
  {
   "cell_type": "code",
   "execution_count": null,
   "id": "a586e9ba",
   "metadata": {},
   "outputs": [],
   "source": [
    "!gfortran -O3 fortran_quad.f90"
   ]
  },
  {
   "cell_type": "code",
   "execution_count": null,
   "id": "720c9433",
   "metadata": {},
   "outputs": [],
   "source": [
    "!./a.out"
   ]
  },
  {
   "cell_type": "code",
   "execution_count": null,
   "id": "102b92e6",
   "metadata": {},
   "outputs": [],
   "source": [
    "!rm a.out"
   ]
  },
  {
   "cell_type": "markdown",
   "id": "cba067a2",
   "metadata": {},
   "source": [
    "## Python + Numba"
   ]
  },
  {
   "cell_type": "markdown",
   "id": "05e16ec0",
   "metadata": {},
   "source": [
    "Now let's do the same thing in Python using Numba's JIT compilation:"
   ]
  },
  {
   "cell_type": "code",
   "execution_count": null,
   "id": "8e6a2b14",
   "metadata": {},
   "outputs": [],
   "source": [
    "quad_jitted = jit(quad)"
   ]
  },
  {
   "cell_type": "code",
   "execution_count": null,
   "id": "f44b62c6",
   "metadata": {},
   "outputs": [],
   "source": [
    "tic()\n",
    "x = quad_jitted(0.2, n)\n",
    "toc()"
   ]
  },
  {
   "cell_type": "code",
   "execution_count": null,
   "id": "2aee8467",
   "metadata": {},
   "outputs": [],
   "source": [
    "tic()\n",
    "x = quad_jitted(0.2, n)\n",
    "toc()"
   ]
  },
  {
   "cell_type": "markdown",
   "id": "b7501d75",
   "metadata": {},
   "source": [
    "## Codon"
   ]
  },
  {
   "cell_type": "code",
   "execution_count": null,
   "id": "5dd7498e",
   "metadata": {},
   "outputs": [],
   "source": [
    "!/bin/bash -c \"$(curl -fsSL https://exaloop.io/install.sh)\""
   ]
  },
  {
   "cell_type": "code",
   "execution_count": null,
   "id": "6f956309",
   "metadata": {},
   "outputs": [],
   "source": [
    "%%file codon_quad.py\n",
    "\n",
    "from time import time\n",
    "\n",
    "n = 10_000_000\n",
    "alpha = 4.0\n",
    "\n",
    "def quad(x0, n):\n",
    "    x = x0\n",
    "    for i in range(1, n):\n",
    "        x = alpha * x * (1 - x)\n",
    "    return x\n",
    "\n",
    "\n",
    "t0 = time()\n",
    "x = quad(0.1, n)\n",
    "t1 = time()\n",
    "print(x)\n",
    "print(t1 - t0)"
   ]
  },
  {
   "cell_type": "code",
   "execution_count": null,
   "id": "d77a6e0e",
   "metadata": {},
   "outputs": [],
   "source": [
    "!codon build --release --exe codon_quad.py"
   ]
  },
  {
   "cell_type": "code",
   "execution_count": null,
   "id": "c93898f6",
   "metadata": {},
   "outputs": [],
   "source": [
    "!./codon_quad"
   ]
  },
  {
   "cell_type": "code",
   "execution_count": null,
   "id": "4798f5d3",
   "metadata": {},
   "outputs": [],
   "source": [
    "!rm codon_quad"
   ]
  },
  {
   "cell_type": "code",
   "execution_count": null,
   "id": "50489f98",
   "metadata": {},
   "outputs": [],
   "source": []
  }
 ],
 "metadata": {
  "kernelspec": {
   "display_name": "Python 3 (ipykernel)",
   "language": "python",
   "name": "python3"
  }
 },
 "nbformat": 4,
 "nbformat_minor": 5
}
